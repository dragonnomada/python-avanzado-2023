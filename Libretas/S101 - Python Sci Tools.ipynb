{
 "cells": [
  {
   "cell_type": "markdown",
   "source": [
    "# S101 - Librerías Científicas en Python\n",
    "\n",
    "Vamos a mostrar los principales resultados de algunas librerías científicas que podemos usar en python, por ejemplo:\n",
    "\n",
    "1. `Numpy (numpy)`\n",
    "2. `Scipy (scipy)`\n",
    "3. `Matplotlib (matplotlib)`\n",
    "4. `Pandas (pandas)`\n",
    "5. `Scikit Learn (scikit-learn)`\n",
    "\n",
    "Lo primero es crear una celda código en jupyter o abrir una terminal para instalar los paquetes.\n",
    "\n",
    "Dentro de una celda de código podemos escribir:\n",
    "\n",
    "    ! pip install <package>\n",
    "\n",
    "Al ejecutar la celda que comienza en `!`, ejecutará el comando directamente cómo se hiciera en una terminal.\n",
    "\n",
    "    $ pip install <package>"
   ],
   "metadata": {
    "collapsed": false
   }
  },
  {
   "cell_type": "markdown",
   "source": [
    "## Numpy - Manejo de arreglos n-dimensionales\n",
    "\n",
    "    pip install numpy"
   ],
   "metadata": {
    "collapsed": false
   }
  },
  {
   "cell_type": "code",
   "execution_count": 1,
   "outputs": [
    {
     "name": "stdout",
     "output_type": "stream",
     "text": [
      "Requirement already satisfied: numpy in d:\\conda\\envs\\deep-learning\\lib\\site-packages (1.24.3)\n"
     ]
    }
   ],
   "source": [
    "! pip install numpy"
   ],
   "metadata": {
    "collapsed": false,
    "ExecuteTime": {
     "start_time": "2023-04-24T10:26:36.828269Z",
     "end_time": "2023-04-24T10:26:41.386331Z"
    }
   }
  },
  {
   "cell_type": "markdown",
   "source": [
    "Numpy es utilizado para transformar valores simples de python en arreglos n-dimensionales (vectores, matrices, tensores, etc) y poder usarlos de forma óptima.\n",
    "\n",
    "Para importar numpy generalmente se hace con una importación de `alias` dónde llamaremos `np` a la librería de `numpy`, esto nos permitirá que en lugar de decir `numpy.array(...)`, digamos `np.array()`."
   ],
   "metadata": {
    "collapsed": false
   }
  },
  {
   "cell_type": "code",
   "execution_count": 4,
   "outputs": [
    {
     "data": {
      "text/plain": "array([ 5,  6,  7,  8,  9, 10, 11, 12, 13, 14, 15, 16, 17, 18, 19])"
     },
     "execution_count": 4,
     "metadata": {},
     "output_type": "execute_result"
    }
   ],
   "source": [
    "import numpy as np\n",
    "\n",
    "# Crea un arreglo de dimensión 1,20 comenzando en 5\n",
    "x = np.arange(5, 20)\n",
    "\n",
    "x"
   ],
   "metadata": {
    "collapsed": false,
    "ExecuteTime": {
     "start_time": "2023-04-24T10:30:33.520803Z",
     "end_time": "2023-04-24T10:30:33.540779Z"
    }
   }
  },
  {
   "cell_type": "code",
   "execution_count": 5,
   "outputs": [
    {
     "data": {
      "text/plain": "array([3, 7, 5, 6, 4, 8, 9, 2])"
     },
     "execution_count": 5,
     "metadata": {},
     "output_type": "execute_result"
    }
   ],
   "source": [
    "x = np.array([3, 7, 5, 6, 4, 8, 9, 2])\n",
    "\n",
    "x"
   ],
   "metadata": {
    "collapsed": false,
    "ExecuteTime": {
     "start_time": "2023-04-24T10:31:36.709236Z",
     "end_time": "2023-04-24T10:31:36.726542Z"
    }
   }
  },
  {
   "cell_type": "code",
   "execution_count": 6,
   "outputs": [
    {
     "data": {
      "text/plain": "array([ 0.14112001,  0.6569866 , -0.95892427, -0.2794155 , -0.7568025 ,\n        0.98935825,  0.41211849,  0.90929743])"
     },
     "execution_count": 6,
     "metadata": {},
     "output_type": "execute_result"
    }
   ],
   "source": [
    "# Aplica la función seno a cada elemento del arreglo x\n",
    "y = np.sin(x)\n",
    "\n",
    "y"
   ],
   "metadata": {
    "collapsed": false,
    "ExecuteTime": {
     "start_time": "2023-04-24T10:32:32.166654Z",
     "end_time": "2023-04-24T10:32:32.184440Z"
    }
   }
  },
  {
   "cell_type": "code",
   "execution_count": 8,
   "outputs": [
    {
     "data": {
      "text/plain": "(array([1, 2, 3]), array([4, 5, 6]), array([5, 7, 9]), array([17, 29, 45]))"
     },
     "execution_count": 8,
     "metadata": {},
     "output_type": "execute_result"
    }
   ],
   "source": [
    "a = np.array([1, 2, 3])\n",
    "b = np.array([4, 5, 6])\n",
    "\n",
    "# Podemos sumar los arreglos entrada-entrada\n",
    "c = a + b\n",
    "d = a ** 2 + b ** 2\n",
    "\n",
    "a, b, c, d"
   ],
   "metadata": {
    "collapsed": false,
    "ExecuteTime": {
     "start_time": "2023-04-24T10:36:55.570937Z",
     "end_time": "2023-04-24T10:36:55.583065Z"
    }
   }
  },
  {
   "cell_type": "code",
   "execution_count": 9,
   "outputs": [
    {
     "data": {
      "text/plain": "(array([34, 45, 64, 21, 18, 13]), array([1156, 2025, 4096,  441,  324,  169]))"
     },
     "execution_count": 9,
     "metadata": {},
     "output_type": "execute_result"
    }
   ],
   "source": [
    "x = np.array([34, 45, 64, 21, 18, 13])\n",
    "\n",
    "x2 = x ** 2\n",
    "\n",
    "x, x2"
   ],
   "metadata": {
    "collapsed": false,
    "ExecuteTime": {
     "start_time": "2023-04-24T10:38:07.937486Z",
     "end_time": "2023-04-24T10:38:07.952531Z"
    }
   }
  },
  {
   "cell_type": "code",
   "execution_count": 11,
   "outputs": [
    {
     "data": {
      "text/plain": "32.5"
     },
     "execution_count": 11,
     "metadata": {},
     "output_type": "execute_result"
    }
   ],
   "source": [
    "xp = x.mean()\n",
    "\n",
    "xp"
   ],
   "metadata": {
    "collapsed": false,
    "ExecuteTime": {
     "start_time": "2023-04-24T10:39:02.278779Z",
     "end_time": "2023-04-24T10:39:02.294555Z"
    }
   }
  },
  {
   "cell_type": "code",
   "execution_count": 12,
   "outputs": [
    {
     "data": {
      "text/plain": "(array([34, 45, 64, 21, 18, 13]),\n array([  1.5,  12.5,  31.5, -11.5, -14.5, -19.5]))"
     },
     "execution_count": 12,
     "metadata": {},
     "output_type": "execute_result"
    }
   ],
   "source": [
    "# x=vector - xp=escalar (entrada-entrada restar/sumar el escalar)\n",
    "y = x - xp\n",
    "\n",
    "x, y"
   ],
   "metadata": {
    "collapsed": false,
    "ExecuteTime": {
     "start_time": "2023-04-24T10:39:24.251034Z",
     "end_time": "2023-04-24T10:39:24.296878Z"
    }
   }
  },
  {
   "cell_type": "code",
   "execution_count": 13,
   "outputs": [
    {
     "data": {
      "text/plain": "(array([34, 45, 64, 21, 18, 13]),\n array([  1.5,  12.5,  31.5, -11.5, -14.5, -19.5]),\n array([  2.25, 156.25, 992.25, 132.25, 210.25, 380.25]))"
     },
     "execution_count": 13,
     "metadata": {},
     "output_type": "execute_result"
    }
   ],
   "source": [
    "# x - vector de edades\n",
    "# y - vector de edades menos el promedio\n",
    "# y - vector de edades menos el promedio elevado al cuadrado\n",
    "\n",
    "y2 = y ** 2\n",
    "\n",
    "x, y, y2"
   ],
   "metadata": {
    "collapsed": false,
    "ExecuteTime": {
     "start_time": "2023-04-24T10:40:42.511269Z",
     "end_time": "2023-04-24T10:40:42.557063Z"
    }
   }
  },
  {
   "cell_type": "markdown",
   "source": [
    "Varianza:\n",
    "\n",
    "Suma de cada elemento (`xi`) menos el promedio, elevados al cuadrado, entre el número de elementos (tamaño de `x`).\n",
    "\n",
    "Desviación estándar:\n",
    "\n",
    "Raíz cuadrada de la varianza."
   ],
   "metadata": {
    "collapsed": false
   }
  },
  {
   "cell_type": "code",
   "execution_count": 21,
   "outputs": [
    {
     "data": {
      "text/plain": "312.25"
     },
     "execution_count": 21,
     "metadata": {},
     "output_type": "execute_result"
    }
   ],
   "source": [
    "var_x = y2.sum() / y2.size\n",
    "\n",
    "var_x"
   ],
   "metadata": {
    "collapsed": false,
    "ExecuteTime": {
     "start_time": "2023-04-24T10:44:11.676101Z",
     "end_time": "2023-04-24T10:44:11.694815Z"
    }
   }
  },
  {
   "cell_type": "code",
   "execution_count": 22,
   "outputs": [
    {
     "data": {
      "text/plain": "17.67059704707229"
     },
     "execution_count": 22,
     "metadata": {},
     "output_type": "execute_result"
    }
   ],
   "source": [
    "ds_x = var_x ** 0.5 # raíz cuadrada de la varianza\n",
    "\n",
    "ds_x"
   ],
   "metadata": {
    "collapsed": false,
    "ExecuteTime": {
     "start_time": "2023-04-24T10:45:13.947397Z",
     "end_time": "2023-04-24T10:45:13.952758Z"
    }
   }
  },
  {
   "cell_type": "code",
   "execution_count": 23,
   "outputs": [
    {
     "data": {
      "text/plain": "(14.829402952927708, 50.17059704707229)"
     },
     "execution_count": 23,
     "metadata": {},
     "output_type": "execute_result"
    }
   ],
   "source": [
    "# Estimador al 66% de confianza\n",
    "# Significa que 66% de los datos caerán en este intervalo\n",
    "# (xp - ds_x, xp + ds_x)\n",
    "\n",
    "(xp - ds_x, xp + ds_x)"
   ],
   "metadata": {
    "collapsed": false,
    "ExecuteTime": {
     "start_time": "2023-04-24T10:47:33.219213Z",
     "end_time": "2023-04-24T10:47:33.265204Z"
    }
   }
  },
  {
   "cell_type": "code",
   "execution_count": 29,
   "outputs": [
    {
     "data": {
      "text/plain": "(array([34, 45, 64, 21, 18, 13]), 0.6666666666666666)"
     },
     "execution_count": 29,
     "metadata": {},
     "output_type": "execute_result"
    }
   ],
   "source": [
    "x, 4/6"
   ],
   "metadata": {
    "collapsed": false,
    "ExecuteTime": {
     "start_time": "2023-04-24T10:49:27.509092Z",
     "end_time": "2023-04-24T10:49:27.555509Z"
    }
   }
  },
  {
   "cell_type": "code",
   "execution_count": 30,
   "outputs": [
    {
     "data": {
      "text/plain": "(-2.8411940941445835, 67.84119409414458)"
     },
     "execution_count": 30,
     "metadata": {},
     "output_type": "execute_result"
    }
   ],
   "source": [
    "# Estimador al 95% de confianza\n",
    "# Significa que 95% de los datos caerán en este intervalo\n",
    "\n",
    "(xp - 2 * ds_x, xp + 2 * ds_x)"
   ],
   "metadata": {
    "collapsed": false,
    "ExecuteTime": {
     "start_time": "2023-04-24T10:50:28.978270Z",
     "end_time": "2023-04-24T10:50:28.988092Z"
    }
   }
  },
  {
   "cell_type": "code",
   "execution_count": 31,
   "outputs": [
    {
     "data": {
      "text/plain": "(array([34, 45, 64, 21, 18, 13]), 1.0)"
     },
     "execution_count": 31,
     "metadata": {},
     "output_type": "execute_result"
    }
   ],
   "source": [
    "x, 6 / 6"
   ],
   "metadata": {
    "collapsed": false,
    "ExecuteTime": {
     "start_time": "2023-04-24T10:50:59.275190Z",
     "end_time": "2023-04-24T10:50:59.287504Z"
    }
   }
  },
  {
   "cell_type": "markdown",
   "source": [
    "Los arreglos son n-dimensionales, lo que significa que:\n",
    "\n",
    "vector - Dimensión `1: n` (`n` - tamaño)\n",
    "Matriz - Dimensión `2: n x m` (`n` - filas y `m` - columnas)\n",
    "Tensor - Dimensión `3: a x l x h` (`a` - largo, `l` de profundo, `h` alto)"
   ],
   "metadata": {
    "collapsed": false
   }
  },
  {
   "cell_type": "code",
   "execution_count": 48,
   "outputs": [
    {
     "data": {
      "text/plain": "array([27, 32, 45, 26, 31, -5, 37, 13, 12, 34, 31, 45, 19, 36, 23, 38, 35,\n       18, 34, 36])"
     },
     "execution_count": 48,
     "metadata": {},
     "output_type": "execute_result"
    }
   ],
   "source": [
    "# Crea un vector de 20 elementos\n",
    "# centrados en 32.5\n",
    "# con desviación estándar de 17\n",
    "x = np.random.normal(32.5, 17, 20).astype(int)\n",
    "\n",
    "x"
   ],
   "metadata": {
    "collapsed": false,
    "ExecuteTime": {
     "start_time": "2023-04-24T10:59:54.298477Z",
     "end_time": "2023-04-24T10:59:54.312288Z"
    }
   }
  },
  {
   "cell_type": "code",
   "execution_count": 49,
   "outputs": [
    {
     "data": {
      "text/plain": "(28.35, 141.0275, 11.875499989474127)"
     },
     "execution_count": 49,
     "metadata": {},
     "output_type": "execute_result"
    }
   ],
   "source": [
    "var_x = ((x - x.mean()) ** 2).sum() / x.shape[0]\n",
    "ds_x = var_x ** 0.5\n",
    "\n",
    "x.mean(), var_x, ds_x"
   ],
   "metadata": {
    "collapsed": false,
    "ExecuteTime": {
     "start_time": "2023-04-24T10:59:56.536895Z",
     "end_time": "2023-04-24T10:59:56.554373Z"
    }
   }
  },
  {
   "cell_type": "code",
   "execution_count": 50,
   "outputs": [
    {
     "data": {
      "text/plain": "array([[2, 1],\n       [1, 3]])"
     },
     "execution_count": 50,
     "metadata": {},
     "output_type": "execute_result"
    }
   ],
   "source": [
    "# Sistema de ecuaciones:\n",
    "# 2x + y = 17\n",
    "# x + 3y = 26\n",
    "\n",
    "#    A     x\n",
    "# | 2 1 | | x |  = | 17 |\n",
    "# | 1 3 | | y |    | 26 |\n",
    "\n",
    "A = np.array(\n",
    "    [\n",
    "        [2, 1],\n",
    "        [1, 3]\n",
    "    ]\n",
    ")\n",
    "\n",
    "A"
   ],
   "metadata": {
    "collapsed": false,
    "ExecuteTime": {
     "start_time": "2023-04-24T11:02:26.595332Z",
     "end_time": "2023-04-24T11:02:26.614764Z"
    }
   }
  },
  {
   "cell_type": "code",
   "execution_count": 51,
   "outputs": [
    {
     "name": "stdout",
     "output_type": "stream",
     "text": [
      "[[2 1]\n",
      " [1 3]]\n"
     ]
    }
   ],
   "source": [
    "print(A)"
   ],
   "metadata": {
    "collapsed": false,
    "ExecuteTime": {
     "start_time": "2023-04-24T11:02:50.111641Z",
     "end_time": "2023-04-24T11:02:50.122189Z"
    }
   }
  },
  {
   "cell_type": "code",
   "execution_count": 52,
   "outputs": [
    {
     "data": {
      "text/plain": "array([17, 26])"
     },
     "execution_count": 52,
     "metadata": {},
     "output_type": "execute_result"
    }
   ],
   "source": [
    "b = np.array([17, 26])\n",
    "\n",
    "b"
   ],
   "metadata": {
    "collapsed": false,
    "ExecuteTime": {
     "start_time": "2023-04-24T11:03:14.278104Z",
     "end_time": "2023-04-24T11:03:14.310743Z"
    }
   }
  },
  {
   "cell_type": "code",
   "execution_count": null,
   "outputs": [],
   "source": [
    "# Intalar Scipy\n",
    "\n",
    "! pip install scipy"
   ],
   "metadata": {
    "collapsed": false
   }
  },
  {
   "cell_type": "code",
   "execution_count": 53,
   "outputs": [
    {
     "data": {
      "text/plain": "array([[ 0.6, -0.2],\n       [-0.2,  0.4]])"
     },
     "execution_count": 53,
     "metadata": {},
     "output_type": "execute_result"
    }
   ],
   "source": [
    "# A * x = b\n",
    "# A.inv * A * x = A.inv * b\n",
    "# => x = A.inv * b\n",
    "\n",
    "from scipy.linalg import inv\n",
    "\n",
    "inv(A)"
   ],
   "metadata": {
    "collapsed": false,
    "ExecuteTime": {
     "start_time": "2023-04-24T11:04:56.022886Z",
     "end_time": "2023-04-24T11:04:57.171780Z"
    }
   }
  },
  {
   "cell_type": "code",
   "execution_count": 56,
   "outputs": [
    {
     "data": {
      "text/plain": "array([5., 7.])"
     },
     "execution_count": 56,
     "metadata": {},
     "output_type": "execute_result"
    }
   ],
   "source": [
    "x = inv(A).dot(b)\n",
    "\n",
    "x"
   ],
   "metadata": {
    "collapsed": false,
    "ExecuteTime": {
     "start_time": "2023-04-24T11:05:35.454239Z",
     "end_time": "2023-04-24T11:05:35.476124Z"
    }
   }
  },
  {
   "cell_type": "code",
   "execution_count": 57,
   "outputs": [
    {
     "data": {
      "text/plain": "array([[2, 1],\n       [1, 3]])"
     },
     "execution_count": 57,
     "metadata": {},
     "output_type": "execute_result"
    }
   ],
   "source": [
    "A.T"
   ],
   "metadata": {
    "collapsed": false,
    "ExecuteTime": {
     "start_time": "2023-04-24T11:06:37.222760Z",
     "end_time": "2023-04-24T11:06:37.236149Z"
    }
   }
  },
  {
   "cell_type": "code",
   "execution_count": 58,
   "outputs": [
    {
     "data": {
      "text/plain": "5.0"
     },
     "execution_count": 58,
     "metadata": {},
     "output_type": "execute_result"
    }
   ],
   "source": [
    "from scipy.linalg import det\n",
    "\n",
    "det(A)"
   ],
   "metadata": {
    "collapsed": false,
    "ExecuteTime": {
     "start_time": "2023-04-24T11:07:16.161335Z",
     "end_time": "2023-04-24T11:07:16.183626Z"
    }
   }
  },
  {
   "cell_type": "code",
   "execution_count": 59,
   "outputs": [
    {
     "data": {
      "text/plain": "(array([[1, 3, 7],\n        [2, 2, 8],\n        [4, 5, 2]]),\n array([[-0.58064516,  0.4516129 ,  0.03225806],\n        [ 0.46774194, -0.41935484,  0.11290323],\n        [ 0.16129032,  0.09677419, -0.06451613]]),\n 62.0)"
     },
     "execution_count": 59,
     "metadata": {},
     "output_type": "execute_result"
    }
   ],
   "source": [
    "D = np.array(\n",
    "    [\n",
    "        [1, 2, 4],\n",
    "        [3, 2, 5],\n",
    "        [7, 8, 2]\n",
    "    ]\n",
    ")\n",
    "\n",
    "D.T, inv(D), det(D)"
   ],
   "metadata": {
    "collapsed": false,
    "ExecuteTime": {
     "start_time": "2023-04-24T11:08:13.234589Z",
     "end_time": "2023-04-24T11:08:13.249221Z"
    }
   }
  },
  {
   "cell_type": "code",
   "execution_count": 66,
   "outputs": [
    {
     "name": "stdout",
     "output_type": "stream",
     "text": [
      "[4.29761423 4.44984875 4.45944479 4.50712956 4.52130899 4.38591964\n",
      " 4.50083547 4.63079081 4.43121702 4.51237296 4.51038296 4.57235123\n",
      " 4.55169811 4.46682871 4.50452206 4.31664378 4.4047809  4.38123471\n",
      " 4.54531291 4.43447443 4.50487108 4.34342423 4.45872631 4.2850412\n",
      " 4.43440142 4.60196592 4.50373557 4.33527641 4.66835229 4.65050765]\n",
      "Promedio: 4.5\n",
      "Desviación: 0.0992\n",
      "Estimado al 66%: [4.373155, 4.571579]\n",
      "Hay 20 elementos en el rango del estimador\n",
      "Estimados: 20 / 30 = 66.7%\n"
     ]
    }
   ],
   "source": [
    "# Ejercicio E101 - Arreglos\n",
    "\n",
    "# Crea un arreglo distribuido normalmente\n",
    "# y verifica que el ~66% de los datos caigan\n",
    "# en el rango del estimado (xp - ds_x, xp + ds_x)\n",
    "\n",
    "# Paso 1 - Import numpy como np\n",
    "import numpy as np\n",
    "\n",
    "# Paso 2 - Crear el arreglo distribuido normalmente\n",
    "#          con valores aleatorios\n",
    "\n",
    "# np.random.normal(<promedio>, <desviación>, <n_muestras>)\n",
    "x = np.random.normal(4.5, 0.1, 30)\n",
    "\n",
    "print(x)\n",
    "\n",
    "# Paso 3 - Construir un estimador para promedio 4.5\n",
    "#           y desviación estándar 0.1\n",
    "xp = x.mean() # xp = 4.5\n",
    "ds_x = (((x - xp) ** 2).sum() / x.size) ** 0.5 # ds_x = 0.1\n",
    "\n",
    "print(\"Promedio: {:.1f}\".format(xp))\n",
    "print(\"Desviación: {:.4f}\".format(ds_x))\n",
    "\n",
    "# Paso 4 - Construir el estimador al 66% de confianza\n",
    "#           cómo el promedio más/menos la desviación estándar\n",
    "\n",
    "estimador = (xp - ds_x, xp + ds_x) # ~(4.4, 4.6)\n",
    "\n",
    "print(\"Estimado al 66%: [{:2f}, {:2f}]\".format(estimador[0], estimador[1]))\n",
    "\n",
    "# Paso 5 - Contamos cuántos elementos están en el intervalo\n",
    "#          de confianza al 66%\n",
    "\n",
    "count = 0\n",
    "\n",
    "for xi in x:\n",
    "    if xi >= estimador[0] and xi <= estimador[1]:\n",
    "        count += 1\n",
    "\n",
    "print(\"Hay {} elementos en el rango del estimador\".format(count))\n",
    "\n",
    "print(\"Estimados: {} / {} = {:.1f}%\".format(\n",
    "    count,\n",
    "    x.size,\n",
    "    100 * count / x.size\n",
    "))"
   ],
   "metadata": {
    "collapsed": false,
    "ExecuteTime": {
     "start_time": "2023-04-24T11:23:47.623573Z",
     "end_time": "2023-04-24T11:23:47.676362Z"
    }
   }
  }
 ],
 "metadata": {
  "kernelspec": {
   "display_name": "Python 3",
   "language": "python",
   "name": "python3"
  },
  "language_info": {
   "codemirror_mode": {
    "name": "ipython",
    "version": 2
   },
   "file_extension": ".py",
   "mimetype": "text/x-python",
   "name": "python",
   "nbconvert_exporter": "python",
   "pygments_lexer": "ipython2",
   "version": "2.7.6"
  }
 },
 "nbformat": 4,
 "nbformat_minor": 0
}
